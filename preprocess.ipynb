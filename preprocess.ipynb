{
 "cells": [
  {
   "cell_type": "markdown",
   "metadata": {},
   "source": [
    "## Preprocessing Steps ##\n",
    "\n",
    "#### Data Cleaning\n",
    "* Remove punctuations from `review_text`\n",
    "* Lowercase all text \n",
    "\n",
    "#### Match review text with location\n",
    "* For each piece of review text in `yelp_review_cleaned.csv`, we extract `business_id` to match it with `city` and `state` from the business data \n",
    "* Costruct a new csv file with columns `business_id`, `text`, `city`, `state`\n",
    "* Group cities/states into more general regions (e.g. Southwest, Northeast)\n",
    "* Add a new column to our csv file: `region`"
   ]
  },
  {
   "cell_type": "code",
   "execution_count": 10,
   "metadata": {},
   "outputs": [],
   "source": [
    "import pandas as pd\n",
    "import numpy as np\n",
    "import string\n",
    "import csv"
   ]
  },
  {
   "cell_type": "code",
   "execution_count": 11,
   "metadata": {},
   "outputs": [],
   "source": [
    "def clean_text(text):\n",
    "    # remove punctuations\n",
    "    clean_text = [char for char in text if char not in string.punctuation]\n",
    "    clean_text = ''.join(clean_text)\n",
    "    # lower case all text\n",
    "    clean_text = clean_text.lower()\n",
    "    \n",
    "    return clean_text"
   ]
  },
  {
   "cell_type": "code",
   "execution_count": 12,
   "metadata": {},
   "outputs": [],
   "source": [
    "chunk_size = 200000\n",
    "raw_data_path = 'yelp_academic_dataset_review.csv'\n",
    "clean_data_path = 'yelp_review_cleaned.csv'\n",
    "column_names = ['business_id', 'text']\n",
    "\n",
    "def read_csv(ds_name, chunk_size):\n",
    "    \n",
    "    for chunk in pd.read_csv(ds_name, chunksize=chunk_size):\n",
    "        return chunk\n",
    "\n",
    "review_text = read_csv(raw_data_path, chunk_size)\n",
    "\n",
    "with open(clean_data_path, 'w') as csv_file:\n",
    "    csv_file = csv.writer(csv_file)\n",
    "    csv_file.writerow(column_names)\n",
    "    \n",
    "    for idx in range(chunk_size):\n",
    "        cleaned_text = clean_text(review_text['text'][idx])\n",
    "        business_id = review_text['business_id'][idx].split(\"'\")[1]\n",
    "        csv_file.writerow([business_id, cleaned_text])"
   ]
  },
  {
   "cell_type": "code",
   "execution_count": 37,
   "metadata": {},
   "outputs": [
    {
     "data": {
      "text/html": [
       "<div>\n",
       "<style scoped>\n",
       "    .dataframe tbody tr th:only-of-type {\n",
       "        vertical-align: middle;\n",
       "    }\n",
       "\n",
       "    .dataframe tbody tr th {\n",
       "        vertical-align: top;\n",
       "    }\n",
       "\n",
       "    .dataframe thead th {\n",
       "        text-align: right;\n",
       "    }\n",
       "</style>\n",
       "<table border=\"1\" class=\"dataframe\">\n",
       "  <thead>\n",
       "    <tr style=\"text-align: right;\">\n",
       "      <th></th>\n",
       "      <th>business_id</th>\n",
       "      <th>text</th>\n",
       "    </tr>\n",
       "  </thead>\n",
       "  <tbody>\n",
       "    <tr>\n",
       "      <th>0</th>\n",
       "      <td>buF9druCkbuXLX526sGELQ</td>\n",
       "      <td>bapparently prides osteria had a rough summer ...</td>\n",
       "    </tr>\n",
       "    <tr>\n",
       "      <th>1</th>\n",
       "      <td>RA4V8pr014UyUbDvI-LW2A</td>\n",
       "      <td>bthis store is pretty good not as great as wal...</td>\n",
       "    </tr>\n",
       "    <tr>\n",
       "      <th>2</th>\n",
       "      <td>_sS2LBIGNT5NQb6PD1Vtjw</td>\n",
       "      <td>bi called wvm on the recommendation of a coupl...</td>\n",
       "    </tr>\n",
       "    <tr>\n",
       "      <th>3</th>\n",
       "      <td>0AzLzHfOJgL7ROwhdww2ew</td>\n",
       "      <td>bive stayed at many marriott and renaissance m...</td>\n",
       "    </tr>\n",
       "    <tr>\n",
       "      <th>4</th>\n",
       "      <td>8zehGz9jnxPqXtOc7KaJxA</td>\n",
       "      <td>bthe food is always great here the service fro...</td>\n",
       "    </tr>\n",
       "  </tbody>\n",
       "</table>\n",
       "</div>"
      ],
      "text/plain": [
       "              business_id                                               text\n",
       "0  buF9druCkbuXLX526sGELQ  bapparently prides osteria had a rough summer ...\n",
       "1  RA4V8pr014UyUbDvI-LW2A  bthis store is pretty good not as great as wal...\n",
       "2  _sS2LBIGNT5NQb6PD1Vtjw  bi called wvm on the recommendation of a coupl...\n",
       "3  0AzLzHfOJgL7ROwhdww2ew  bive stayed at many marriott and renaissance m...\n",
       "4  8zehGz9jnxPqXtOc7KaJxA  bthe food is always great here the service fro..."
      ]
     },
     "execution_count": 37,
     "metadata": {},
     "output_type": "execute_result"
    }
   ],
   "source": [
    "business_data_path = \"yelp_academic_dataset_business.csv\"\n",
    "clean_data_path = 'yelp_review_cleaned.csv'\n",
    "\n",
    "clean_text = pd.read_csv(clean_data_path)\n",
    "business_info = pd.read_csv(business_data_path)\n",
    "clean_text.head()"
   ]
  },
  {
   "cell_type": "code",
   "execution_count": 39,
   "metadata": {},
   "outputs": [],
   "source": [
    "from itertools import *\n",
    "\n",
    "ensemble_data_path = 'ensemble.csv'\n",
    "column_names = [\"city\", \"state\", \"text\"]\n",
    "\n",
    "text_business_ids = np.array(clean_text['business_id'])\n",
    "all_business_ids = np.array(business_info['business_id'])\n",
    "all_cities = np.array(business_info['city'])\n",
    "all_states = np.array(business_info['state'])\n",
    "\n",
    "# write a new csv file with column names: city, state, text\n",
    "with open(ensemble_data_path, 'w') as csv_file:\n",
    "    csv_file = csv.writer(csv_file)\n",
    "    csv_file.writerow(column_names)\n",
    "    \n",
    "    for i in islice(count(), 0, len(text_business_ids)-1):\n",
    "        item_loc = np.where(all_business_ids == text_business_ids[i])[0][0]\n",
    "        city = all_cities[item_loc]\n",
    "        state = all_states[item_loc]\n",
    "        review_text = clean_text['text'][item_loc]\n",
    "        csv_file.writerow([city, state, review_text])"
   ]
  },
  {
   "cell_type": "code",
   "execution_count": null,
   "metadata": {},
   "outputs": [],
   "source": []
  }
 ],
 "metadata": {
  "kernelspec": {
   "display_name": "Python 3",
   "language": "python",
   "name": "python3"
  }
 },
 "nbformat": 4,
 "nbformat_minor": 4
}
