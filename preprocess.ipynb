{
 "cells": [
  {
   "cell_type": "code",
   "execution_count": 1,
   "metadata": {},
   "outputs": [],
   "source": [
    "import pandas as pd\n",
    "import numpy as np\n",
    "import string\n",
    "import csv"
   ]
  },
  {
   "cell_type": "markdown",
   "metadata": {},
   "source": [
    "**steps**\n",
    "    - need index to extract full text -> `review_text['text'][1]`\n",
    "    - after extraction -> filtering/cleaning steps\n",
    "    - filtered data should compose a new dataframe\n",
    "        - columns: `text`, `business_id`"
   ]
  },
  {
   "cell_type": "code",
   "execution_count": 2,
   "metadata": {},
   "outputs": [],
   "source": [
    "def clean_text(text):\n",
    "    # remove punctuations\n",
    "    clean_text = [char for char in text if char not in string.punctuation]\n",
    "    clean_text = ''.join(clean_text)\n",
    "    # lower case all text\n",
    "    clean_text = clean_text.lower()\n",
    "    \n",
    "    return clean_text"
   ]
  },
  {
   "cell_type": "code",
   "execution_count": 3,
   "metadata": {},
   "outputs": [],
   "source": [
    "chunk_size = 100000\n",
    "raw_data_path = 'yelp_academic_dataset_review.csv'\n",
    "clean_data_path = 'yelp_review_cleaned.csv'\n",
    "column_names = ['business_id', 'text']\n",
    "\n",
    "def read_csv(ds_name, chunk_size):\n",
    "    \n",
    "    for chunk in pd.read_csv(ds_name, chunksize=chunk_size):\n",
    "        return chunk\n",
    "\n",
    "review_text = read_csv(raw_data_path, chunk_size)\n",
    "\n",
    "with open(clean_data_path, 'w') as csv_file:\n",
    "    csv_file = csv.writer(csv_file)\n",
    "    csv_file.writerow(column_names)\n",
    "    \n",
    "    for idx in range(chunk_size):\n",
    "        cleaned_text = clean_text(review_text['text'][idx])\n",
    "        business_id = review_text['business_id'][idx]\n",
    "        # write into new csv file\n",
    "        csv_file.writerow([business_id, cleaned_text])"
   ]
  },
  {
   "cell_type": "code",
   "execution_count": 4,
   "metadata": {},
   "outputs": [],
   "source": [
    "clean_text = pd.read_csv(clean_data_path)"
   ]
  },
  {
   "cell_type": "code",
   "execution_count": 5,
   "metadata": {},
   "outputs": [
    {
     "data": {
      "text/html": [
       "<div>\n",
       "<style scoped>\n",
       "    .dataframe tbody tr th:only-of-type {\n",
       "        vertical-align: middle;\n",
       "    }\n",
       "\n",
       "    .dataframe tbody tr th {\n",
       "        vertical-align: top;\n",
       "    }\n",
       "\n",
       "    .dataframe thead th {\n",
       "        text-align: right;\n",
       "    }\n",
       "</style>\n",
       "<table border=\"1\" class=\"dataframe\">\n",
       "  <thead>\n",
       "    <tr style=\"text-align: right;\">\n",
       "      <th></th>\n",
       "      <th>business_id</th>\n",
       "      <th>text</th>\n",
       "    </tr>\n",
       "  </thead>\n",
       "  <tbody>\n",
       "    <tr>\n",
       "      <th>99995</th>\n",
       "      <td>b'3cLBtLFiH8IRdlEy9S8RiQ'</td>\n",
       "      <td>bi figured i would try this place based on so ...</td>\n",
       "    </tr>\n",
       "    <tr>\n",
       "      <th>99996</th>\n",
       "      <td>b'1V5AWwFsxrlUsSo2B6MEEA'</td>\n",
       "      <td>bwe were there for lunch on april 26th we opte...</td>\n",
       "    </tr>\n",
       "    <tr>\n",
       "      <th>99997</th>\n",
       "      <td>b'w4vP6vhfb65Te66zOO2Hug'</td>\n",
       "      <td>bstopped in here after returning from a trip a...</td>\n",
       "    </tr>\n",
       "    <tr>\n",
       "      <th>99998</th>\n",
       "      <td>b'8u_pdcdN66D1dmIZrNK55w'</td>\n",
       "      <td>bwho doesnt love wendys this one however is in...</td>\n",
       "    </tr>\n",
       "    <tr>\n",
       "      <th>99999</th>\n",
       "      <td>b'5Qt0Zo4z6pGLFfscU5gS3w'</td>\n",
       "      <td>bunfortunately this is one of the worst of the...</td>\n",
       "    </tr>\n",
       "  </tbody>\n",
       "</table>\n",
       "</div>"
      ],
      "text/plain": [
       "                     business_id  \\\n",
       "99995  b'3cLBtLFiH8IRdlEy9S8RiQ'   \n",
       "99996  b'1V5AWwFsxrlUsSo2B6MEEA'   \n",
       "99997  b'w4vP6vhfb65Te66zOO2Hug'   \n",
       "99998  b'8u_pdcdN66D1dmIZrNK55w'   \n",
       "99999  b'5Qt0Zo4z6pGLFfscU5gS3w'   \n",
       "\n",
       "                                                    text  \n",
       "99995  bi figured i would try this place based on so ...  \n",
       "99996  bwe were there for lunch on april 26th we opte...  \n",
       "99997  bstopped in here after returning from a trip a...  \n",
       "99998  bwho doesnt love wendys this one however is in...  \n",
       "99999  bunfortunately this is one of the worst of the...  "
      ]
     },
     "execution_count": 5,
     "metadata": {},
     "output_type": "execute_result"
    }
   ],
   "source": [
    "clean_text.tail()"
   ]
  },
  {
   "cell_type": "code",
   "execution_count": null,
   "metadata": {},
   "outputs": [],
   "source": []
  }
 ],
 "metadata": {
  "kernelspec": {
   "display_name": "Python 3",
   "language": "python",
   "name": "python3"
  },
  "language_info": {
   "codemirror_mode": {
    "name": "ipython",
    "version": 3
   },
   "file_extension": ".py",
   "mimetype": "text/x-python",
   "name": "python",
   "nbconvert_exporter": "python",
   "pygments_lexer": "ipython3",
   "version": "3.7.6"
  }
 },
 "nbformat": 4,
 "nbformat_minor": 4
}
