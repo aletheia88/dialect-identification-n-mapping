{
 "cells": [
  {
   "cell_type": "code",
   "execution_count": 28,
   "metadata": {},
   "outputs": [],
   "source": [
    "import pandas as pd\n",
    "import numpy as np\n",
    "import string\n",
    "import csv"
   ]
  },
  {
   "cell_type": "code",
   "execution_count": 29,
   "metadata": {},
   "outputs": [],
   "source": [
    "ds_name = 'yelp_dataset/yelp_academic_dataset_review.csv'\n",
    "\n",
    "# randomly sample review text\n",
    "def read_csv(ds_name):\n",
    "    \n",
    "    chunksize = 10000\n",
    "    for chunk in pd.read_csv(ds_name, chunksize=chunksize):\n",
    "        return chunk\n",
    "\n",
    "review_text = read_csv(ds_name)"
   ]
  },
  {
   "cell_type": "code",
   "execution_count": 31,
   "metadata": {},
   "outputs": [],
   "source": [
    "sample_text = review_text['text'][0]"
   ]
  },
  {
   "cell_type": "code",
   "execution_count": 32,
   "metadata": {},
   "outputs": [
    {
     "data": {
      "text/html": [
       "<div>\n",
       "<style scoped>\n",
       "    .dataframe tbody tr th:only-of-type {\n",
       "        vertical-align: middle;\n",
       "    }\n",
       "\n",
       "    .dataframe tbody tr th {\n",
       "        vertical-align: top;\n",
       "    }\n",
       "\n",
       "    .dataframe thead th {\n",
       "        text-align: right;\n",
       "    }\n",
       "</style>\n",
       "<table border=\"1\" class=\"dataframe\">\n",
       "  <thead>\n",
       "    <tr style=\"text-align: right;\">\n",
       "      <th></th>\n",
       "      <th>review_id</th>\n",
       "      <th>useful</th>\n",
       "      <th>text</th>\n",
       "      <th>business_id</th>\n",
       "      <th>cool</th>\n",
       "      <th>funny</th>\n",
       "      <th>user_id</th>\n",
       "      <th>stars</th>\n",
       "      <th>date</th>\n",
       "    </tr>\n",
       "  </thead>\n",
       "  <tbody>\n",
       "    <tr>\n",
       "      <th>0</th>\n",
       "      <td>b'lWC-xP3rd6obsecCYsGZRg'</td>\n",
       "      <td>3</td>\n",
       "      <td>b\"Apparently Prides Osteria had a rough summer...</td>\n",
       "      <td>b'buF9druCkbuXLX526sGELQ'</td>\n",
       "      <td>1</td>\n",
       "      <td>1</td>\n",
       "      <td>b'ak0TdVmGKo4pwqdJSTLwWw'</td>\n",
       "      <td>4.0</td>\n",
       "      <td>b'2014-10-11 03:34:02'</td>\n",
       "    </tr>\n",
       "    <tr>\n",
       "      <th>1</th>\n",
       "      <td>b'8bFej1QE5LXp4O05qjGqXA'</td>\n",
       "      <td>1</td>\n",
       "      <td>b'This store is pretty good. Not as great as W...</td>\n",
       "      <td>b'RA4V8pr014UyUbDvI-LW2A'</td>\n",
       "      <td>0</td>\n",
       "      <td>0</td>\n",
       "      <td>b'YoVfDbnISlW0f7abNQACIg'</td>\n",
       "      <td>4.0</td>\n",
       "      <td>b'2015-07-03 20:38:25'</td>\n",
       "    </tr>\n",
       "    <tr>\n",
       "      <th>2</th>\n",
       "      <td>b'NDhkzczKjLshODbqDoNLSg'</td>\n",
       "      <td>0</td>\n",
       "      <td>b\"I called WVM on the recommendation of a coup...</td>\n",
       "      <td>b'_sS2LBIGNT5NQb6PD1Vtjw'</td>\n",
       "      <td>0</td>\n",
       "      <td>0</td>\n",
       "      <td>b'eC5evKn1TWDyHCyQAwguUw'</td>\n",
       "      <td>5.0</td>\n",
       "      <td>b'2013-05-28 20:38:06'</td>\n",
       "    </tr>\n",
       "    <tr>\n",
       "      <th>3</th>\n",
       "      <td>b'T5fAqjjFooT4V0OeZyuk1w'</td>\n",
       "      <td>1</td>\n",
       "      <td>b\"I've stayed at many Marriott and Renaissance...</td>\n",
       "      <td>b'0AzLzHfOJgL7ROwhdww2ew'</td>\n",
       "      <td>1</td>\n",
       "      <td>1</td>\n",
       "      <td>b'SFQ1jcnGguO0LYWnbbftAA'</td>\n",
       "      <td>2.0</td>\n",
       "      <td>b'2010-01-08 02:29:15'</td>\n",
       "    </tr>\n",
       "    <tr>\n",
       "      <th>4</th>\n",
       "      <td>b'sjm_uUcQVxab_EeLCqsYLg'</td>\n",
       "      <td>0</td>\n",
       "      <td>b\"The food is always great here. The service f...</td>\n",
       "      <td>b'8zehGz9jnxPqXtOc7KaJxA'</td>\n",
       "      <td>0</td>\n",
       "      <td>0</td>\n",
       "      <td>b'0kA0PAJ8QFMeveQWHFqz2A'</td>\n",
       "      <td>4.0</td>\n",
       "      <td>b'2011-07-28 18:05:01'</td>\n",
       "    </tr>\n",
       "  </tbody>\n",
       "</table>\n",
       "</div>"
      ],
      "text/plain": [
       "                   review_id  useful  \\\n",
       "0  b'lWC-xP3rd6obsecCYsGZRg'       3   \n",
       "1  b'8bFej1QE5LXp4O05qjGqXA'       1   \n",
       "2  b'NDhkzczKjLshODbqDoNLSg'       0   \n",
       "3  b'T5fAqjjFooT4V0OeZyuk1w'       1   \n",
       "4  b'sjm_uUcQVxab_EeLCqsYLg'       0   \n",
       "\n",
       "                                                text  \\\n",
       "0  b\"Apparently Prides Osteria had a rough summer...   \n",
       "1  b'This store is pretty good. Not as great as W...   \n",
       "2  b\"I called WVM on the recommendation of a coup...   \n",
       "3  b\"I've stayed at many Marriott and Renaissance...   \n",
       "4  b\"The food is always great here. The service f...   \n",
       "\n",
       "                 business_id  cool  funny                    user_id  stars  \\\n",
       "0  b'buF9druCkbuXLX526sGELQ'     1      1  b'ak0TdVmGKo4pwqdJSTLwWw'    4.0   \n",
       "1  b'RA4V8pr014UyUbDvI-LW2A'     0      0  b'YoVfDbnISlW0f7abNQACIg'    4.0   \n",
       "2  b'_sS2LBIGNT5NQb6PD1Vtjw'     0      0  b'eC5evKn1TWDyHCyQAwguUw'    5.0   \n",
       "3  b'0AzLzHfOJgL7ROwhdww2ew'     1      1  b'SFQ1jcnGguO0LYWnbbftAA'    2.0   \n",
       "4  b'8zehGz9jnxPqXtOc7KaJxA'     0      0  b'0kA0PAJ8QFMeveQWHFqz2A'    4.0   \n",
       "\n",
       "                     date  \n",
       "0  b'2014-10-11 03:34:02'  \n",
       "1  b'2015-07-03 20:38:25'  \n",
       "2  b'2013-05-28 20:38:06'  \n",
       "3  b'2010-01-08 02:29:15'  \n",
       "4  b'2011-07-28 18:05:01'  "
      ]
     },
     "execution_count": 32,
     "metadata": {},
     "output_type": "execute_result"
    }
   ],
   "source": [
    "review_text.head()"
   ]
  },
  {
   "cell_type": "code",
   "execution_count": 35,
   "metadata": {},
   "outputs": [
    {
     "data": {
      "text/plain": [
       "'bApparently Prides Osteria had a rough summer as evidenced by the almost empty dining room at 630 on a Friday night However new blood in the kitchen seems to have revitalized the food from other customers recent visits Waitstaff was warm but unobtrusive By 8 pm or so when we left the bar was full and the dining room was much more lively than it had been Perhaps Beverly residents prefer a later seating nnAfter reading the mixed reviews of late I was a little tentative over our choice but luckily there was nothing to worry about in the food department We started with the fried dough burrata and prosciutto which were all lovely Then although they dont offer half portions of pasta we each ordered the entree size and split them We chose the tagliatelle bolognese and a four cheese filled pasta in a creamy sauce with bacon asparagus and grana frita Both were very good We split a secondi which was the special Berkshire pork secreto which was described as a pork skirt steak with garlic potato purxc3xa9e and romanesco broccoli incorrectly described as a romanesco sauce Some tables received bread before the meal but for some reason we did not nnManagement also seems capable for when the tenants in the apartment above began playing basketball she intervened and also comped the tables a dessert We ordered the apple dumpling with gelato and it was also quite tasty Portions are not huge which I particularly like because I prefer to order courses If you are someone who orders just a meal you may leave hungry depending on you appetite Dining room was mostly younger crowd while the bar was definitely the over 40 set Would recommend that the naysayers return to see the improvement although I personally dont know the former glory to be able to compare Easy access to downtown Salem without the crowds on this month of October'"
      ]
     },
     "execution_count": 35,
     "metadata": {},
     "output_type": "execute_result"
    }
   ],
   "source": [
    "remove_pctn = [char for char in sample_text if char not in string.punctuation]\n",
    "remove_pctn = ''.join(remove_pctn)\n",
    "remove_pctn"
   ]
  },
  {
   "cell_type": "code",
   "execution_count": null,
   "metadata": {},
   "outputs": [],
   "source": []
  }
 ],
 "metadata": {
  "kernelspec": {
   "display_name": "Python 3",
   "language": "python",
   "name": "python3"
  },
  "language_info": {
   "codemirror_mode": {
    "name": "ipython",
    "version": 3
   },
   "file_extension": ".py",
   "mimetype": "text/x-python",
   "name": "python",
   "nbconvert_exporter": "python",
   "pygments_lexer": "ipython3",
   "version": "3.7.6"
  }
 },
 "nbformat": 4,
 "nbformat_minor": 4
}
