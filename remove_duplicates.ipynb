{
 "cells": [
  {
   "cell_type": "code",
   "execution_count": 24,
   "metadata": {},
   "outputs": [
    {
     "name": "stdout",
     "output_type": "stream",
     "text": [
      "Total text: 2063386\n"
     ]
    }
   ],
   "source": [
    "import pandas as pd\n",
    "import numpy as np\n",
    "import string\n",
    "import csv\n",
    "\n",
    "ensemble = pd.read_csv('ensemble.csv')\n",
    "text = np.array(ensemble['text'])\n",
    "print(f'Total text: {text.size}')"
   ]
  },
  {
   "cell_type": "code",
   "execution_count": 16,
   "metadata": {},
   "outputs": [
    {
     "name": "stdout",
     "output_type": "stream",
     "text": [
      "Number of unique reviews: 131400\n"
     ]
    }
   ],
   "source": [
    "unique_review, unique_review_indices = np.unique(text, return_index=True)\n",
    "print(f'Number of unique reviews: {unique_review.size}')"
   ]
  },
  {
   "cell_type": "code",
   "execution_count": 32,
   "metadata": {},
   "outputs": [],
   "source": [
    "column_names = [\"city\", \"state\", \"text\"]\n",
    "\n",
    "with open('ensemble2.csv', 'w') as csv_file:\n",
    "    csv_file = csv.writer(csv_file)\n",
    "    csv_file.writerow(column_names)\n",
    "    \n",
    "    for idx in unique_review_indices:\n",
    "        csv_file.writerow([ensemble['city'][idx], ensemble['state'][idx], ensemble['text'][idx] ])"
   ]
  },
  {
   "cell_type": "code",
   "execution_count": 34,
   "metadata": {},
   "outputs": [
    {
     "data": {
      "text/plain": [
       "131400"
      ]
     },
     "execution_count": 34,
     "metadata": {},
     "output_type": "execute_result"
    }
   ],
   "source": [
    "ensemble2 = pd.read_csv('ensemble2.csv')"
   ]
  },
  {
   "cell_type": "code",
   "execution_count": null,
   "metadata": {},
   "outputs": [],
   "source": []
  }
 ],
 "metadata": {
  "kernelspec": {
   "display_name": "Python 3",
   "language": "python",
   "name": "python3"
  },
  "language_info": {
   "codemirror_mode": {
    "name": "ipython",
    "version": 3
   },
   "file_extension": ".py",
   "mimetype": "text/x-python",
   "name": "python",
   "nbconvert_exporter": "python",
   "pygments_lexer": "ipython3",
   "version": "3.7.6"
  }
 },
 "nbformat": 4,
 "nbformat_minor": 4
}
